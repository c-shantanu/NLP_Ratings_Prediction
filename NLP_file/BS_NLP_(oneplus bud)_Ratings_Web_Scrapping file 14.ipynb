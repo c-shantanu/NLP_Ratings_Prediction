{
 "cells": [
  {
   "cell_type": "code",
   "execution_count": 1,
   "metadata": {},
   "outputs": [],
   "source": [
    "import requests\n",
    "from bs4 import BeautifulSoup\n",
    "import time\n",
    "import pandas as pd"
   ]
  },
  {
   "cell_type": "markdown",
   "metadata": {},
   "source": [
    "# amazon.in"
   ]
  },
  {
   "cell_type": "code",
   "execution_count": 2,
   "metadata": {},
   "outputs": [],
   "source": [
    "review_list = []"
   ]
  },
  {
   "cell_type": "code",
   "execution_count": 3,
   "metadata": {},
   "outputs": [],
   "source": [
    "def get_soup(url):\n",
    "    page=requests.get(url)\n",
    "    soup=BeautifulSoup(page.text,\"html.parser\")\n",
    "    return soup"
   ]
  },
  {
   "cell_type": "code",
   "execution_count": 4,
   "metadata": {},
   "outputs": [],
   "source": [
    "def get_reviews(soup):\n",
    "    reviews=soup.find_all('div',{'data-hook' : 'review'})\n",
    "    try:\n",
    "        for item in reviews:\n",
    "            review={    \n",
    "            'review' : item.find('span',{'data-hook':'review-body'}).text.strip(),\n",
    "            'rating': float(item.find('i',{'data-hook':'review-star-rating'}).text.replace('out of 5 stars',\"\").strip())\n",
    "            }\n",
    "            review_list.append(review)\n",
    "    except:\n",
    "        pass"
   ]
  },
  {
   "cell_type": "code",
   "execution_count": 5,
   "metadata": {
    "scrolled": true
   },
   "outputs": [
    {
     "name": "stdout",
     "output_type": "stream",
     "text": [
      "Getting Page: 1\n",
      "0\n",
      "Getting Page: 2\n",
      "0\n",
      "Getting Page: 3\n",
      "0\n",
      "Getting Page: 4\n",
      "0\n",
      "Getting Page: 5\n",
      "0\n",
      "Getting Page: 6\n",
      "0\n",
      "Getting Page: 7\n",
      "0\n",
      "Getting Page: 8\n",
      "0\n",
      "Getting Page: 9\n",
      "0\n",
      "Getting Page: 10\n",
      "0\n",
      "Getting Page: 11\n",
      "0\n",
      "Getting Page: 12\n",
      "0\n",
      "Getting Page: 13\n",
      "0\n",
      "Getting Page: 14\n",
      "0\n",
      "Getting Page: 15\n",
      "0\n",
      "Getting Page: 16\n",
      "0\n",
      "Getting Page: 17\n",
      "0\n",
      "Getting Page: 18\n",
      "0\n",
      "Getting Page: 19\n",
      "10\n",
      "Getting Page: 20\n",
      "10\n",
      "Getting Page: 21\n",
      "20\n",
      "Getting Page: 22\n",
      "20\n",
      "Getting Page: 23\n",
      "20\n",
      "Getting Page: 24\n",
      "20\n",
      "Getting Page: 25\n",
      "30\n",
      "Getting Page: 26\n",
      "40\n",
      "Getting Page: 27\n",
      "40\n",
      "Getting Page: 28\n",
      "40\n",
      "Getting Page: 29\n",
      "40\n",
      "Getting Page: 30\n",
      "50\n",
      "Getting Page: 31\n",
      "50\n",
      "Getting Page: 32\n",
      "50\n",
      "Getting Page: 33\n",
      "50\n",
      "Getting Page: 34\n",
      "50\n",
      "Getting Page: 35\n",
      "50\n",
      "Getting Page: 36\n",
      "50\n",
      "Getting Page: 37\n",
      "50\n",
      "Getting Page: 38\n",
      "60\n",
      "Getting Page: 39\n",
      "70\n",
      "Getting Page: 40\n",
      "70\n",
      "Getting Page: 41\n",
      "70\n",
      "Getting Page: 42\n",
      "80\n",
      "Getting Page: 43\n",
      "87\n"
     ]
    }
   ],
   "source": [
    "for i in range(1,1199):\n",
    "    soup = get_soup(f'https://www.amazon.in/product-reviews/B08HLTFB33/ref=cm_cr_arp_d_paging_btm_next_2?ie=UTF8&filterByStar=two_star&reviewerType=all_reviews&pageNumber={i}#reviews-filter-bar')\n",
    "    print(f'Getting Page: {i}')\n",
    "    get_reviews(soup)\n",
    "    print(len(review_list))\n",
    "    if not soup.find('li', {'class':'a-disabled a-last'}):\n",
    "        pass\n",
    "    else:\n",
    "        break\n"
   ]
  },
  {
   "cell_type": "code",
   "execution_count": 6,
   "metadata": {},
   "outputs": [
    {
     "name": "stdout",
     "output_type": "stream",
     "text": [
      "END\n"
     ]
    }
   ],
   "source": [
    "df = pd.DataFrame(review_list)\n",
    "df.to_csv('Ratings_nlp_14.csv', index=False)\n",
    "print('END')"
   ]
  },
  {
   "cell_type": "code",
   "execution_count": 7,
   "metadata": {},
   "outputs": [
    {
     "data": {
      "text/html": [
       "<div>\n",
       "<style scoped>\n",
       "    .dataframe tbody tr th:only-of-type {\n",
       "        vertical-align: middle;\n",
       "    }\n",
       "\n",
       "    .dataframe tbody tr th {\n",
       "        vertical-align: top;\n",
       "    }\n",
       "\n",
       "    .dataframe thead th {\n",
       "        text-align: right;\n",
       "    }\n",
       "</style>\n",
       "<table border=\"1\" class=\"dataframe\">\n",
       "  <thead>\n",
       "    <tr style=\"text-align: right;\">\n",
       "      <th></th>\n",
       "      <th>review</th>\n",
       "      <th>rating</th>\n",
       "    </tr>\n",
       "  </thead>\n",
       "  <tbody>\n",
       "    <tr>\n",
       "      <th>0</th>\n",
       "      <td>Worst calling mic. I have issue with mic. It's...</td>\n",
       "      <td>2.0</td>\n",
       "    </tr>\n",
       "    <tr>\n",
       "      <th>1</th>\n",
       "      <td>After 2 month ,while calling we received distr...</td>\n",
       "      <td>2.0</td>\n",
       "    </tr>\n",
       "    <tr>\n",
       "      <th>2</th>\n",
       "      <td>i am using a dell laptop and that is recently ...</td>\n",
       "      <td>2.0</td>\n",
       "    </tr>\n",
       "    <tr>\n",
       "      <th>3</th>\n",
       "      <td>This product has difficult to connect with dev...</td>\n",
       "      <td>2.0</td>\n",
       "    </tr>\n",
       "    <tr>\n",
       "      <th>4</th>\n",
       "      <td>The quality of the item is not as price &amp; bran...</td>\n",
       "      <td>2.0</td>\n",
       "    </tr>\n",
       "    <tr>\n",
       "      <th>...</th>\n",
       "      <td>...</td>\n",
       "      <td>...</td>\n",
       "    </tr>\n",
       "    <tr>\n",
       "      <th>82</th>\n",
       "      <td>Worst sound quality compared to basic edition ...</td>\n",
       "      <td>2.0</td>\n",
       "    </tr>\n",
       "    <tr>\n",
       "      <th>83</th>\n",
       "      <td>Very bad experience. Not working after 2 days ...</td>\n",
       "      <td>2.0</td>\n",
       "    </tr>\n",
       "    <tr>\n",
       "      <th>84</th>\n",
       "      <td>Battery drained early, not price worthy, even ...</td>\n",
       "      <td>2.0</td>\n",
       "    </tr>\n",
       "    <tr>\n",
       "      <th>85</th>\n",
       "      <td>Poor mic quality...make too much noise while i...</td>\n",
       "      <td>2.0</td>\n",
       "    </tr>\n",
       "    <tr>\n",
       "      <th>86</th>\n",
       "      <td>Your browser does not support HTML5 video.\\n\\n...</td>\n",
       "      <td>2.0</td>\n",
       "    </tr>\n",
       "  </tbody>\n",
       "</table>\n",
       "<p>87 rows × 2 columns</p>\n",
       "</div>"
      ],
      "text/plain": [
       "                                               review  rating\n",
       "0   Worst calling mic. I have issue with mic. It's...     2.0\n",
       "1   After 2 month ,while calling we received distr...     2.0\n",
       "2   i am using a dell laptop and that is recently ...     2.0\n",
       "3   This product has difficult to connect with dev...     2.0\n",
       "4   The quality of the item is not as price & bran...     2.0\n",
       "..                                                ...     ...\n",
       "82  Worst sound quality compared to basic edition ...     2.0\n",
       "83  Very bad experience. Not working after 2 days ...     2.0\n",
       "84  Battery drained early, not price worthy, even ...     2.0\n",
       "85  Poor mic quality...make too much noise while i...     2.0\n",
       "86  Your browser does not support HTML5 video.\\n\\n...     2.0\n",
       "\n",
       "[87 rows x 2 columns]"
      ]
     },
     "execution_count": 7,
     "metadata": {},
     "output_type": "execute_result"
    }
   ],
   "source": [
    "df"
   ]
  },
  {
   "cell_type": "code",
   "execution_count": null,
   "metadata": {},
   "outputs": [],
   "source": []
  }
 ],
 "metadata": {
  "kernelspec": {
   "display_name": "Python 3",
   "language": "python",
   "name": "python3"
  },
  "language_info": {
   "codemirror_mode": {
    "name": "ipython",
    "version": 3
   },
   "file_extension": ".py",
   "mimetype": "text/x-python",
   "name": "python",
   "nbconvert_exporter": "python",
   "pygments_lexer": "ipython3",
   "version": "3.8.3"
  }
 },
 "nbformat": 4,
 "nbformat_minor": 4
}
